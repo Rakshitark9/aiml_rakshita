{
 "cells": [
  {
   "cell_type": "code",
   "execution_count": 13,
   "id": "8accc3ee-939c-48f0-8837-046916ae0983",
   "metadata": {},
   "outputs": [],
   "source": [
    "scores = {'Virat':90, 'Rohit':100, 'Rahul':70, 'Hardik':9, 'Gill':20, 'Jadeja':20, 'Siraz':15}"
   ]
  },
  {
   "cell_type": "code",
   "execution_count": 21,
   "id": "cf5e5345-abb5-4e8b-8019-2fb5207e82f0",
   "metadata": {},
   "outputs": [
    {
     "ename": "SyntaxError",
     "evalue": "invalid syntax (713356238.py, line 1)",
     "output_type": "error",
     "traceback": [
      "\u001b[1;36m  Cell \u001b[1;32mIn[21], line 1\u001b[1;36m\u001b[0m\n\u001b[1;33m    scores.[{\"Aswin\":15}]\u001b[0m\n\u001b[1;37m           ^\u001b[0m\n\u001b[1;31mSyntaxError\u001b[0m\u001b[1;31m:\u001b[0m invalid syntax\n"
     ]
    }
   ],
   "source": [
    "scores.[{\"Aswin\":15}]\n",
    "scores"
   ]
  },
  {
   "cell_type": "code",
   "execution_count": 15,
   "id": "e2f7a098-b643-4151-b34c-f3c00b3acd3d",
   "metadata": {},
   "outputs": [
    {
     "data": {
      "text/plain": [
       "{'Virat': 90,\n",
       " 'Rohit': 100,\n",
       " 'Rahul': 70,\n",
       " 'Hardik': 9,\n",
       " 'Gill': 20,\n",
       " 'Jadeja': 50,\n",
       " 'Siraz': 15}"
      ]
     },
     "execution_count": 15,
     "metadata": {},
     "output_type": "execute_result"
    }
   ],
   "source": [
    "scores.update({\"Jadeja\":50})\n",
    "scores"
   ]
  },
  {
   "cell_type": "code",
   "execution_count": 23,
   "id": "74a08a32-e910-4f3e-8fa8-6594a6340a8c",
   "metadata": {},
   "outputs": [
    {
     "data": {
      "text/plain": [
       "{'Virat': 90,\n",
       " 'Rohit': 100,\n",
       " 'Rahul': 70,\n",
       " 'Hardik': 65,\n",
       " 'Gill': 20,\n",
       " 'Jadeja': 50,\n",
       " 'Siraz': 15,\n",
       " 'Rahane': 45}"
      ]
     },
     "execution_count": 23,
     "metadata": {},
     "output_type": "execute_result"
    }
   ],
   "source": [
    "scores.update({\"Hardik\":65, 'Rahane':45})\n",
    "scores"
   ]
  },
  {
   "cell_type": "code",
   "execution_count": 25,
   "id": "b093e068-64c9-4bf7-8e46-792c3ac2bae2",
   "metadata": {},
   "outputs": [
    {
     "data": {
      "text/plain": [
       "{'Virat': 90,\n",
       " 'Rohit': 100,\n",
       " 'Rahul': 70,\n",
       " 'Hardik': 65,\n",
       " 'Gill': 20,\n",
       " 'Jadeja': 50,\n",
       " 'Siraz': 15,\n",
       " 'Rahane': 45}"
      ]
     },
     "execution_count": 25,
     "metadata": {},
     "output_type": "execute_result"
    }
   ],
   "source": [
    "scores.setdefault(\"Rahul\",60)\n",
    "scores"
   ]
  },
  {
   "cell_type": "code",
   "execution_count": 27,
   "id": "ce6183e8-bb84-4540-99fc-ce8b52dd3af1",
   "metadata": {},
   "outputs": [
    {
     "data": {
      "text/plain": [
       "{'Virat': 90,\n",
       " 'Rohit': 100,\n",
       " 'Rahul': 70,\n",
       " 'Hardik': 65,\n",
       " 'Gill': 20,\n",
       " 'Jadeja': 50,\n",
       " 'Siraz': 15}"
      ]
     },
     "execution_count": 27,
     "metadata": {},
     "output_type": "execute_result"
    }
   ],
   "source": [
    "scores.popitem() #remove elements from dict\n",
    "scores"
   ]
  },
  {
   "cell_type": "code",
   "execution_count": 29,
   "id": "d257153c-32ed-4350-a39e-2bdd68e9ed87",
   "metadata": {},
   "outputs": [
    {
     "data": {
      "text/plain": [
       "{'Virat': 90,\n",
       " 'Rohit': 100,\n",
       " 'Rahul': 70,\n",
       " 'Hardik': 65,\n",
       " 'Gill': 20,\n",
       " 'Jadeja': 50,\n",
       " 'Siraz': 15}"
      ]
     },
     "execution_count": 29,
     "metadata": {},
     "output_type": "execute_result"
    }
   ],
   "source": [
    "scores.get(\"Siraz\")\n",
    "scores"
   ]
  },
  {
   "cell_type": "code",
   "execution_count": 31,
   "id": "318f30a8-620e-4adc-a551-2adb61adc8e1",
   "metadata": {},
   "outputs": [
    {
     "data": {
      "text/plain": [
       "15"
      ]
     },
     "execution_count": 31,
     "metadata": {},
     "output_type": "execute_result"
    }
   ],
   "source": [
    "scores.get(\"Siraz\")"
   ]
  },
  {
   "cell_type": "code",
   "execution_count": 33,
   "id": "5237d556-3cc0-4a6e-87ef-eda54096d69c",
   "metadata": {},
   "outputs": [
    {
     "data": {
      "text/plain": [
       "{'A': None, 'B': None, 'C': None, 'D': None}"
      ]
     },
     "execution_count": 33,
     "metadata": {},
     "output_type": "execute_result"
    }
   ],
   "source": [
    "#fromkeys:same value to all keys\n",
    "list1 = [\"A\",\"B\",\"C\",\"D\"]\n",
    "my_dict = dict.fromkeys(list1)\n",
    "my_dict"
   ]
  },
  {
   "cell_type": "code",
   "execution_count": 35,
   "id": "b01a7cc5-755d-4a40-8668-e991b7037559",
   "metadata": {},
   "outputs": [
    {
     "data": {
      "text/plain": [
       "{'A': 10, 'B': 10, 'C': 10, 'D': 10}"
      ]
     },
     "execution_count": 35,
     "metadata": {},
     "output_type": "execute_result"
    }
   ],
   "source": [
    "my_dict = dict.fromkeys(list1,10)\n",
    "my_dict"
   ]
  },
  {
   "cell_type": "code",
   "execution_count": 37,
   "id": "63cac7ae-6415-4e58-be69-096e62ced2ae",
   "metadata": {},
   "outputs": [
    {
     "data": {
      "text/plain": [
       "{'A': 20, 'B': 30, 'C': 10, 'D': 10}"
      ]
     },
     "execution_count": 37,
     "metadata": {},
     "output_type": "execute_result"
    }
   ],
   "source": [
    "my_dict.update({\"A\":20,\"B\":30})\n",
    "my_dict"
   ]
  },
  {
   "cell_type": "code",
   "execution_count": 39,
   "id": "c87b4694-1aa3-45fb-abc9-6e913c0e6183",
   "metadata": {},
   "outputs": [
    {
     "data": {
      "text/plain": [
       "{'Virat': 90,\n",
       " 'Rohit': 100,\n",
       " 'Rahul': 70,\n",
       " 'Hardik': 19,\n",
       " 'Gill': 20,\n",
       " 'Jadeja': 50,\n",
       " 'Siraz': 15}"
      ]
     },
     "execution_count": 39,
     "metadata": {},
     "output_type": "execute_result"
    }
   ],
   "source": [
    "for k in scores.keys():\n",
    "    if k == 'Hardik':\n",
    "        scores[k] = 19\n",
    "scores"
   ]
  },
  {
   "cell_type": "code",
   "execution_count": 41,
   "id": "69857aa5-e028-43f4-b7f9-9303527a2961",
   "metadata": {},
   "outputs": [
    {
     "name": "stdout",
     "output_type": "stream",
     "text": [
      "[90, 100, 70, 19, 20, 50, 15]\n",
      "Total Score:  364\n"
     ]
    }
   ],
   "source": [
    "scores_list = []\n",
    "for v in scores.values():\n",
    "    scores_list.append(v)\n",
    "print(scores_list)\n",
    "print(\"Total Score: \", sum(scores_list))"
   ]
  },
  {
   "cell_type": "code",
   "execution_count": null,
   "id": "c1ea8c8c-53e9-4478-9a3b-1eed87a882d4",
   "metadata": {},
   "outputs": [],
   "source": []
  }
 ],
 "metadata": {
  "kernelspec": {
   "display_name": "Python [conda env:base] *",
   "language": "python",
   "name": "conda-base-py"
  },
  "language_info": {
   "codemirror_mode": {
    "name": "ipython",
    "version": 3
   },
   "file_extension": ".py",
   "mimetype": "text/x-python",
   "name": "python",
   "nbconvert_exporter": "python",
   "pygments_lexer": "ipython3",
   "version": "3.12.7"
  }
 },
 "nbformat": 4,
 "nbformat_minor": 5
}
