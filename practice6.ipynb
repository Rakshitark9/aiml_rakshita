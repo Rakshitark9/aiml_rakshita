{
 "cells": [
  {
   "cell_type": "code",
   "execution_count": 1,
   "id": "06a482b5-bf26-40f9-91ee-e6b6ddecddd1",
   "metadata": {},
   "outputs": [
    {
     "name": "stdout",
     "output_type": "stream",
     "text": [
      "even\n",
      "even\n",
      "Zero\n",
      "48.666666666666664\n",
      " Good morning Ramya\n",
      "Good morning Sowmya !\n"
     ]
    }
   ],
   "source": [
    "import conventional"
   ]
  },
  {
   "cell_type": "code",
   "execution_count": 3,
   "id": "c7b6e1f9-ec4e-4093-b967-5bd9a3349f04",
   "metadata": {},
   "outputs": [
    {
     "data": {
      "text/plain": [
       "6.666666666666667"
      ]
     },
     "execution_count": 3,
     "metadata": {},
     "output_type": "execute_result"
    }
   ],
   "source": [
    "conventional.mean_value(4,7,9)"
   ]
  },
  {
   "cell_type": "code",
   "execution_count": null,
   "id": "32b65cb2-d968-41b6-a61a-cb455319ada7",
   "metadata": {},
   "outputs": [],
   "source": []
  }
 ],
 "metadata": {
  "kernelspec": {
   "display_name": "Python [conda env:base] *",
   "language": "python",
   "name": "conda-base-py"
  },
  "language_info": {
   "codemirror_mode": {
    "name": "ipython",
    "version": 3
   },
   "file_extension": ".py",
   "mimetype": "text/x-python",
   "name": "python",
   "nbconvert_exporter": "python",
   "pygments_lexer": "ipython3",
   "version": "3.12.7"
  }
 },
 "nbformat": 4,
 "nbformat_minor": 5
}
