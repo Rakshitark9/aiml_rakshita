{
 "cells": [
  {
   "cell_type": "code",
   "execution_count": 3,
   "id": "33c37b10-3a92-4d6d-b258-02749ffd1071",
   "metadata": {},
   "outputs": [
    {
     "name": "stdout",
     "output_type": "stream",
     "text": [
      "even\n"
     ]
    }
   ],
   "source": [
    "num = 6\n",
    "if num % 2 == 0: \n",
    "    print(\"even\") \n",
    "else: \n",
    "    print(\"odd\")"
   ]
  },
  {
   "cell_type": "code",
   "execution_count": 5,
   "id": "dd42a6ec-c9ec-4d36-b4b3-8e0e2bf6742b",
   "metadata": {},
   "outputs": [
    {
     "name": "stdout",
     "output_type": "stream",
     "text": [
      "even\n"
     ]
    }
   ],
   "source": [
    "print(\"even\") if num%2==0 else print(\"odd\")"
   ]
  },
  {
   "cell_type": "code",
   "execution_count": 12,
   "id": "c975fa3f-6157-4b20-a696-5d590a214f76",
   "metadata": {},
   "outputs": [
    {
     "name": "stdout",
     "output_type": "stream",
     "text": [
      "Zero\n"
     ]
    }
   ],
   "source": [
    "num = 0\n",
    "result = \"Positive\" if num > 0 else (\"Negative\" if num < 0 else \"Zero\")\n",
    "print(result)"
   ]
  },
  {
   "cell_type": "code",
   "execution_count": 20,
   "id": "be3adfc8-435f-402d-87c2-e12a641f935e",
   "metadata": {},
   "outputs": [
    {
     "data": {
      "text/plain": [
       "[4, 6, 12, 14, 8, 198, 132]"
      ]
     },
     "execution_count": 20,
     "metadata": {},
     "output_type": "execute_result"
    }
   ],
   "source": [
    "L = [2,3,6,7,4,99,66]\n",
    "[2*x for x in L]"
   ]
  },
  {
   "cell_type": "code",
   "execution_count": 24,
   "id": "113e4004-0223-4094-b9d1-c28205be9a9a",
   "metadata": {},
   "outputs": [
    {
     "data": {
      "text/plain": [
       "[2, 10, 56]"
      ]
     },
     "execution_count": 24,
     "metadata": {},
     "output_type": "execute_result"
    }
   ],
   "source": [
    "L = [1,9,2,10,56,89]\n",
    "[x for x in L if x%2 == 0]"
   ]
  },
  {
   "cell_type": "code",
   "execution_count": 26,
   "id": "64f66b7a-d6b5-4c6f-b7a0-621d18c96ee8",
   "metadata": {},
   "outputs": [
    {
     "data": {
      "text/plain": [
       "[23, 43, 77, 89]"
      ]
     },
     "execution_count": 26,
     "metadata": {},
     "output_type": "execute_result"
    }
   ],
   "source": [
    "L = [23,4,43,56,77,89]\n",
    "[y for y in L if y%2 != 0]"
   ]
  },
  {
   "cell_type": "code",
   "execution_count": 38,
   "id": "5727ec1a-8cec-4648-9efa-e384929e9b18",
   "metadata": {},
   "outputs": [
    {
     "data": {
      "text/plain": [
       "48.666666666666664"
      ]
     },
     "execution_count": 38,
     "metadata": {},
     "output_type": "execute_result"
    }
   ],
   "source": [
    "#print avg value of list\n",
    "sum([ x for x in L])/len(L)"
   ]
  },
  {
   "cell_type": "code",
   "execution_count": 34,
   "id": "273f591c-f33d-4946-aa0b-053df62b12c6",
   "metadata": {},
   "outputs": [
    {
     "name": "stdout",
     "output_type": "stream",
     "text": [
      "48.666666666666664\n"
     ]
    }
   ],
   "source": [
    "import numpy as np\n",
    "L = [23,4,43,56,77,89]\n",
    "x = np.mean(L)\n",
    "print(x)"
   ]
  },
  {
   "cell_type": "code",
   "execution_count": 40,
   "id": "14ca7dab-db8d-4f54-a2e4-13caa9f81ec4",
   "metadata": {},
   "outputs": [
    {
     "data": {
      "text/plain": [
       "{'Ram': [70, 23, 56, 34, 66], 'John': [91, 34, 25, 66, 76, 56, 90]}"
      ]
     },
     "execution_count": 40,
     "metadata": {},
     "output_type": "execute_result"
    }
   ],
   "source": [
    "d1 = {'Ram':[70,23,56,34,66],'John':[91,34,25,66,76,56,90]}\n",
    "d1"
   ]
  },
  {
   "cell_type": "code",
   "execution_count": 42,
   "id": "fac5690a-0199-4780-9082-09b24f1a3d2a",
   "metadata": {},
   "outputs": [
    {
     "data": {
      "text/plain": [
       "{'Ram': 49.8, 'John': 62.57142857142857}"
      ]
     },
     "execution_count": 42,
     "metadata": {},
     "output_type": "execute_result"
    }
   ],
   "source": [
    "{k:sum(v)/len(v) for k,v in d1.items()}"
   ]
  },
  {
   "cell_type": "code",
   "execution_count": null,
   "id": "f41e3f08-e74b-4115-9a60-38189e2e71b5",
   "metadata": {},
   "outputs": [],
   "source": []
  }
 ],
 "metadata": {
  "kernelspec": {
   "display_name": "Python [conda env:base] *",
   "language": "python",
   "name": "conda-base-py"
  },
  "language_info": {
   "codemirror_mode": {
    "name": "ipython",
    "version": 3
   },
   "file_extension": ".py",
   "mimetype": "text/x-python",
   "name": "python",
   "nbconvert_exporter": "python",
   "pygments_lexer": "ipython3",
   "version": "3.12.7"
  }
 },
 "nbformat": 4,
 "nbformat_minor": 5
}
