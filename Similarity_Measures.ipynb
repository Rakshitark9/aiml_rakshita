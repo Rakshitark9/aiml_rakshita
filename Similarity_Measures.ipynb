{
 "cells": [
  {
   "cell_type": "code",
   "execution_count": 3,
   "id": "8d89b33a-6228-4f42-a6de-87cc67a976e5",
   "metadata": {},
   "outputs": [],
   "source": [
    "import numpy as np\n",
    "from scipy.spatial.distance import cosine, euclidean\n",
    "from scipy.stats import pearsonr"
   ]
  },
  {
   "cell_type": "code",
   "execution_count": 5,
   "id": "7100e45f-603f-454e-a5ea-bbd108e34709",
   "metadata": {},
   "outputs": [],
   "source": [
    "user1 = np.array([4,5,2,3,4])\n",
    "user2 = np.array([5,3,2,4,5])"
   ]
  },
  {
   "cell_type": "code",
   "execution_count": 7,
   "id": "447d496d-6782-4dcb-a5f5-e4674a280011",
   "metadata": {},
   "outputs": [
    {
     "name": "stdout",
     "output_type": "stream",
     "text": [
      "Cosine Similarity: 0.9548\n"
     ]
    }
   ],
   "source": [
    "cosine_similarity = 1- cosine(user1, user2)\n",
    "print(f\"Cosine Similarity: {cosine_similarity:.4f}\")"
   ]
  },
  {
   "cell_type": "code",
   "execution_count": 13,
   "id": "0c1c97fa-eb2d-4d46-89be-4ac6dc88fa4c",
   "metadata": {},
   "outputs": [
    {
     "name": "stdout",
     "output_type": "stream",
     "text": [
      "Pearson Correlation Similarity:0.4372\n"
     ]
    }
   ],
   "source": [
    "pearson_corr,_=pearsonr(user1, user2)\n",
    "print(f\"Pearson Correlation Similarity:{pearson_corr:.4f}\")\n"
   ]
  },
  {
   "cell_type": "code",
   "execution_count": 17,
   "id": "cbdd3383-5a84-4084-a613-361a6656d880",
   "metadata": {},
   "outputs": [
    {
     "name": "stdout",
     "output_type": "stream",
     "text": [
      "Euclidean Distance Similarity: 0.2743\n"
     ]
    }
   ],
   "source": [
    "euclidean_distance = euclidean(user1,user2)\n",
    "euclidean_similarity = 1 / (1+euclidean_distance)\n",
    "print(f\"Euclidean Distance Similarity: {euclidean_similarity:.4f}\")"
   ]
  },
  {
   "cell_type": "code",
   "execution_count": 19,
   "id": "6cc4a1f9-59d2-4c7c-9cda-702e8ca8ac02",
   "metadata": {},
   "outputs": [],
   "source": [
    "raju=([5,3,4,4,2])\n",
    "ramya=([4,3,4,5,1])\n",
    "john=([3,1,2,3,3])\n",
    "kishore=([2,2,1,2,4])"
   ]
  },
  {
   "cell_type": "code",
   "execution_count": 23,
   "id": "62f1fcfc-b2c7-4a1d-a8ff-46b6ea51737b",
   "metadata": {},
   "outputs": [
    {
     "name": "stdout",
     "output_type": "stream",
     "text": [
      "Pearson Correlation Similarity:0.4372\n"
     ]
    }
   ],
   "source": [
    "cosine_similarity=1- cosine(raju,ramya)\n",
    "print(f\"Pearson Correlation Similarity:{pearson_corr:.4f}\")"
   ]
  },
  {
   "cell_type": "code",
   "execution_count": 25,
   "id": "4a969e14-cc86-4cc0-9e3c-49988c09ff00",
   "metadata": {},
   "outputs": [
    {
     "name": "stdout",
     "output_type": "stream",
     "text": [
      "Pearson Correlation Similarity:0.4372\n"
     ]
    }
   ],
   "source": [
    "cosine_similarity=1- cosine(john,kishore)\n",
    "print(f\"Pearson Correlation Similarity:{pearson_corr:.4f}\")"
   ]
  },
  {
   "cell_type": "code",
   "execution_count": null,
   "id": "9d271dd4-f9c0-4526-b0cf-5a56b62a093d",
   "metadata": {},
   "outputs": [],
   "source": []
  }
 ],
 "metadata": {
  "kernelspec": {
   "display_name": "Python [conda env:base] *",
   "language": "python",
   "name": "conda-base-py"
  },
  "language_info": {
   "codemirror_mode": {
    "name": "ipython",
    "version": 3
   },
   "file_extension": ".py",
   "mimetype": "text/x-python",
   "name": "python",
   "nbconvert_exporter": "python",
   "pygments_lexer": "ipython3",
   "version": "3.12.7"
  }
 },
 "nbformat": 4,
 "nbformat_minor": 5
}
